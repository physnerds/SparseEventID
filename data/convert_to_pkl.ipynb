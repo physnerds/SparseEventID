{
 "cells": [
  {
   "cell_type": "code",
   "execution_count": 1,
   "id": "9f6cf6ea",
   "metadata": {},
   "outputs": [],
   "source": [
    "import pickle,h5py"
   ]
  },
  {
   "cell_type": "code",
   "execution_count": 2,
   "id": "6f3fc5eb",
   "metadata": {},
   "outputs": [],
   "source": [
    "def convert_data(h5_group):\n",
    "    data = {}\n",
    "    for key, item in h5_group.items():\n",
    "        if isinstance(item,h5py.Dataset):\n",
    "            data[key] = item[:]\n",
    "        elif isinstance(item,h5py.Group):\n",
    "            data[key] = convert_data(item)\n",
    "    return data\n",
    "\n",
    "def convert_file(hdf5_file,output_pickle):\n",
    "    with h5py.File(hdf5_file,'r') as h:\n",
    "        data = convert_data(h)\n",
    "    with open(output_pickle,'wb') as f:\n",
    "        pickle.dump(data,f)"
   ]
  },
  {
   "cell_type": "code",
   "execution_count": 3,
   "id": "0f454be4",
   "metadata": {},
   "outputs": [],
   "source": [
    "fname = \"merged_beam_0.h5\"\n",
    "pkl_name = \"merged_beam_0.pkl\"\n",
    "convert_file(fname,pkl_name)"
   ]
  },
  {
   "cell_type": "code",
   "execution_count": 4,
   "id": "6a0b458d",
   "metadata": {},
   "outputs": [
    {
     "name": "stdout",
     "output_type": "stream",
     "text": [
      "/Users/amitbashyal/SparseEventID/data\n"
     ]
    }
   ],
   "source": [
    "import os,sys\n",
    "print(os.getcwd())"
   ]
  },
  {
   "cell_type": "code",
   "execution_count": null,
   "id": "ed284a99",
   "metadata": {},
   "outputs": [],
   "source": []
  }
 ],
 "metadata": {
  "kernelspec": {
   "display_name": "Python 3 (ipykernel)",
   "language": "python",
   "name": "python3"
  },
  "language_info": {
   "codemirror_mode": {
    "name": "ipython",
    "version": 3
   },
   "file_extension": ".py",
   "mimetype": "text/x-python",
   "name": "python",
   "nbconvert_exporter": "python",
   "pygments_lexer": "ipython3",
   "version": "3.11.4"
  }
 },
 "nbformat": 4,
 "nbformat_minor": 5
}
